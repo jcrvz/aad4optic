{
 "cells": [
  {
   "cell_type": "code",
   "execution_count": 91,
   "id": "34bacea7",
   "metadata": {
    "ExecuteTime": {
     "end_time": "2023-06-16T20:18:55.785444Z",
     "start_time": "2023-06-16T20:18:55.732313Z"
    }
   },
   "outputs": [],
   "source": [
    "%matplotlib inline\n",
    "\n",
    "import numpy as np\n",
    "import matplotlib.pyplot as plt\n",
    "\n",
    "from tqdm.notebook import tqdm # \n",
    "import torch\n",
    "from photontorch import photontorch as pt"
   ]
  },
  {
   "cell_type": "markdown",
   "source": [
    "Define the refractive index values for different components"
   ],
   "metadata": {
    "collapsed": false
   }
  },
  {
   "cell_type": "code",
   "execution_count": 128,
   "id": "072482e3",
   "metadata": {
    "ExecuteTime": {
     "end_time": "2023-06-16T20:23:40.120686Z",
     "start_time": "2023-06-16T20:23:40.110327Z"
    }
   },
   "outputs": [
    {
     "data": {
      "text/plain": "Environment(name='env', t=array([0.000e+00]), t0=0.000e+00, t1=None, num_t=1, dt=None, samplerate=None, bitrate=None, bitlength=None, wl=array([1.550e-06, 1.550e-06, ..., 1.560e-06]), wl0=1.550e-06, wl1=1.560e-06, num_wl=100000, dwl=1.000e-13, f=array([1.934e+14, 1.934e+14, ..., 1.922e+14]), f0=1.934e+14, f1=1.922e+14, num_f=100000, df=-1.248e+07, c=2.998e+08, freqdomain=True, grad=False)",
      "text/html": "<div>\n<table>\n<thead>\n<tr>\n<th>key</th>\n<th>value</th>\n<th>description</th>\n</tr>\n</thead>\n<tbody>\n<tr><th>name</th><td>env</td><td>name of the environment</td></tr>\n<tr><th>t</th><td>0.000e+00</td><td>[s] full 1D time array.</td></tr>\n<tr><th>t0</th><td>0.000e+00</td><td>[s] starting time of the simulation.</td></tr>\n<tr><th>t1</th><td>None</td><td>[s] ending time of the simulation.</td></tr>\n<tr><th>num_t</th><td>1</td><td>number of timesteps in the simulation.</td></tr>\n<tr><th>dt</th><td>None</td><td>[s] timestep of the simulation</td></tr>\n<tr><th>samplerate</th><td>None</td><td>[1/s] samplerate of the simulation.</td></tr>\n<tr><th>bitrate</th><td>None</td><td>[1/s] bitrate of the signal.</td></tr>\n<tr><th>bitlength</th><td>None</td><td>[s] bitlength of the signal.</td></tr>\n<tr><th>wl</th><td>[1.550e-06, 1.550e-06, ..., 1.560e-06]</td><td>[m] full 1D wavelength array.</td></tr>\n<tr><th>wl0</th><td>1.550e-06</td><td>[m] start of wavelength range.</td></tr>\n<tr><th>wl1</th><td>1.560e-06</td><td>[m] end of wavelength range.</td></tr>\n<tr><th>num_wl</th><td>100000</td><td>number of independent wavelengths in the simulation</td></tr>\n<tr><th>dwl</th><td>1.000e-13</td><td>[m] wavelength step sizebetween wl0 and wl1.</td></tr>\n<tr><th>f</th><td>[1.934e+14, 1.934e+14, ..., 1.922e+14]</td><td>[1/s] full 1D frequency array.</td></tr>\n<tr><th>f0</th><td>1.934e+14</td><td>[1/s] start of frequency range.</td></tr>\n<tr><th>f1</th><td>1.922e+14</td><td>[1/s] end of frequency range.</td></tr>\n<tr><th>num_f</th><td>100000</td><td>number of independent frequencies in the simulation</td></tr>\n<tr><th>df</th><td>-1.248e+07</td><td>[1/s] frequency step between f0 and f1.</td></tr>\n<tr><th>c</th><td>2.998e+08</td><td>[m/s] speed of light used during simulations.</td></tr>\n<tr><th>freqdomain</th><td>True</td><td>only do frequency domain calculations.</td></tr>\n<tr><th>grad</th><td>False</td><td>track gradients during the simulation</td></tr>\n</tbody>\n</table>\n</div>"
     },
     "execution_count": 128,
     "metadata": {},
     "output_type": "execute_result"
    }
   ],
   "source": [
    "# define the simulation environment:\n",
    "env = pt.Environment(\n",
    "    wavelength = 1e-6 * np.linspace(1.550, 1.560, 100000),  # [m]\n",
    "    freqdomain = True,  # We will be doing frequency domain simulations\n",
    ")\n",
    "\n",
    "# set the global simulation environment:\n",
    "pt.set_environment(env)\n",
    "\n",
    "# one can always get the current environment from photontorch:\n",
    "pt.current_environment()"
   ]
  },
  {
   "cell_type": "code",
   "execution_count": 129,
   "outputs": [
    {
     "data": {
      "text/plain": "             n    neff   wl0  width  thickness   dg  mewd      FSR   lambda\nTiO2   2.36372  1.7732  1550    700        390  500   716  3.56000  1553.68\nZnO    1.88581  1.5946  1550   1400        500  500   855  0.22188  1554.40\nAl2O3  1.62927  1.5166  1550   2200       1000  200   860  0.83100  1553.48",
      "text/html": "<div>\n<style scoped>\n    .dataframe tbody tr th:only-of-type {\n        vertical-align: middle;\n    }\n\n    .dataframe tbody tr th {\n        vertical-align: top;\n    }\n\n    .dataframe thead th {\n        text-align: right;\n    }\n</style>\n<table border=\"1\" class=\"dataframe\">\n  <thead>\n    <tr style=\"text-align: right;\">\n      <th></th>\n      <th>n</th>\n      <th>neff</th>\n      <th>wl0</th>\n      <th>width</th>\n      <th>thickness</th>\n      <th>dg</th>\n      <th>mewd</th>\n      <th>FSR</th>\n      <th>lambda</th>\n    </tr>\n  </thead>\n  <tbody>\n    <tr>\n      <th>TiO2</th>\n      <td>2.36372</td>\n      <td>1.7732</td>\n      <td>1550</td>\n      <td>700</td>\n      <td>390</td>\n      <td>500</td>\n      <td>716</td>\n      <td>3.56000</td>\n      <td>1553.68</td>\n    </tr>\n    <tr>\n      <th>ZnO</th>\n      <td>1.88581</td>\n      <td>1.5946</td>\n      <td>1550</td>\n      <td>1400</td>\n      <td>500</td>\n      <td>500</td>\n      <td>855</td>\n      <td>0.22188</td>\n      <td>1554.40</td>\n    </tr>\n    <tr>\n      <th>Al2O3</th>\n      <td>1.62927</td>\n      <td>1.5166</td>\n      <td>1550</td>\n      <td>2200</td>\n      <td>1000</td>\n      <td>200</td>\n      <td>860</td>\n      <td>0.83100</td>\n      <td>1553.48</td>\n    </tr>\n  </tbody>\n</table>\n</div>"
     },
     "execution_count": 129,
     "metadata": {},
     "output_type": "execute_result"
    }
   ],
   "source": [
    "import pandas as pd\n",
    "\n",
    "parameters = pd.DataFrame(\n",
    "    data={\n",
    "        \"n\": [2.36372, 1.88581, 1.62927],\n",
    "        \"neff\": [1.7732, 1.5946, 1.5166],\n",
    "        \"wl0\": [1550, 1550, 1550],  # [nm]\n",
    "        \"width\": [700, 1400, 2200],  # [nm]\n",
    "        \"thickness\": [390, 500, 1000],  # [nm]\n",
    "        \"dg\": [500, 500, 200],  # [nm]\n",
    "        \"mewd\": [716, 855, 860],  # [nm]\n",
    "        \"FSR\": [3.56, 0.22188, 0.8310],  # [nm]\n",
    "        \"lambda\": [1553.68, 1554.4, 1553.48],  # [nm]\n",
    "    },\n",
    "    index=[\"TiO2\", \"ZnO\", \"Al2O3\"],\n",
    ")\n",
    "parameters"
   ],
   "metadata": {
    "collapsed": false,
    "ExecuteTime": {
     "end_time": "2023-06-16T20:23:40.396282Z",
     "start_time": "2023-06-16T20:23:40.383859Z"
    }
   }
  },
  {
   "cell_type": "code",
   "execution_count": 170,
   "outputs": [],
   "source": [
    "ring_radius = 120e-6\n",
    "ring_length = 2 * np.pi * ring_radius\n",
    "group_index = parameters['neff']['ZnO']  #(parameters['lambda']['ZnO'] * 1e-9) ** 2 / (ring_length * parameters['FSR']['ZnO'])\n",
    "\n",
    "ring_component = pt.Waveguide(\n",
    "    length=ring_length,\n",
    "    loss=0.02e-3,\n",
    "    neff=parameters['neff']['ZnO'],\n",
    "    wl0=parameters['wl0']['ZnO'] * 1e-9,\n",
    "    ng=group_index,\n",
    "    phase=0,\n",
    "    trainable=True\n",
    ")\n",
    "\n",
    "coupler_component = pt.DirectionalCouplerWithLength(\n",
    "    length=2 * ring_radius + parameters['width']['ZnO'],\n",
    "    loss=0.02e-3,\n",
    "    coupling=0.01,\n",
    "    neff=parameters['neff']['ZnO'],\n",
    "    wl0=parameters['wl0']['ZnO'] * 1e-9,\n",
    "    ng=group_index,\n",
    "    phase=0,\n",
    "    trainable_phase=True,\n",
    ")"
   ],
   "metadata": {
    "collapsed": false,
    "ExecuteTime": {
     "end_time": "2023-06-16T20:33:39.646272Z",
     "start_time": "2023-06-16T20:33:39.636477Z"
    }
   }
  },
  {
   "cell_type": "code",
   "execution_count": 171,
   "outputs": [],
   "source": [
    "class AllPassRingResonator(pt.Network):\n",
    "    def __init__(self, coupler, ring, name=None):\n",
    "        super(AllPassRingResonator, self).__init__(name=name)  # always initialize parent first\n",
    "\n",
    "        # define subcomponents\n",
    "        self.source = pt.Source()\n",
    "        self.detector = pt.Detector()\n",
    "        self.dc = coupler\n",
    "        self.ring = ring\n",
    "        self.link('source:0', '0:dc:2', '0:ring:1', '3:dc:1', '0:detector')"
   ],
   "metadata": {
    "collapsed": false,
    "ExecuteTime": {
     "end_time": "2023-06-16T20:33:40.007201Z",
     "start_time": "2023-06-16T20:33:40.003521Z"
    }
   }
  },
  {
   "cell_type": "code",
   "execution_count": 172,
   "id": "1e51d18d",
   "metadata": {
    "ExecuteTime": {
     "end_time": "2023-06-16T20:33:40.923828Z",
     "start_time": "2023-06-16T20:33:40.630299Z"
    }
   },
   "outputs": [
    {
     "name": "stdout",
     "output_type": "stream",
     "text": [
      "torch.Size([1, 100000, 1, 1])\n"
     ]
    }
   ],
   "source": [
    "device = AllPassRingResonator(coupler=coupler_component, ring=ring_component)\n",
    "detected = device(source=1)\n",
    "print(detected.shape)"
   ]
  },
  {
   "cell_type": "code",
   "execution_count": 173,
   "id": "e74e8e4c",
   "metadata": {
    "ExecuteTime": {
     "end_time": "2023-06-16T20:33:41.372296Z",
     "start_time": "2023-06-16T20:33:41.071081Z"
    }
   },
   "outputs": [
    {
     "data": {
      "text/plain": "<Figure size 640x480 with 1 Axes>",
      "image/png": "[encoded data removed]"
     },
     "metadata": {},
     "output_type": "display_data"
    }
   ],
   "source": [
    "device.plot(detected)\n",
    "# plt.xlim([1554, 1557])\n",
    "plt.show()"
   ]
  },
  {
   "cell_type": "code",
   "execution_count": null,
   "outputs": [],
   "source": [],
   "metadata": {
    "collapsed": false
   }
  }
 ],
 "metadata": {
  "kernelspec": {
   "display_name": "Python 3 (ipykernel)",
   "language": "python",
   "name": "python3"
  },
  "language_info": {
   "codemirror_mode": {
    "name": "ipython",
    "version": 3
   },
   "file_extension": ".py",
   "mimetype": "text/x-python",
   "name": "python",
   "nbconvert_exporter": "python",
   "pygments_lexer": "ipython3",
   "version": "3.9.7"
  }
 },
 "nbformat": 4,
 "nbformat_minor": 5
}
